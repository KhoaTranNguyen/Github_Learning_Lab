{
 "cells": [
  {
   "cell_type": "code",
   "execution_count": 1,
   "id": "f26f3822",
   "metadata": {},
   "outputs": [
    {
     "name": "stdout",
     "output_type": "stream",
     "text": [
      "fib(0) = 0; memo = {0: 0}\n",
      "fib(1) = 1; memo = {0: 0, 1: 1}\n",
      "fib(2) = 1; memo = {0: 0, 1: 1, 2: 1}\n",
      "fib(3) = 2; memo = {0: 0, 1: 1, 2: 1, 3: 2}\n",
      "fib(4) = 3; memo = {0: 0, 1: 1, 2: 1, 3: 2, 4: 3}\n",
      "fib(5) = 5; memo = {0: 0, 1: 1, 2: 1, 3: 2, 4: 3, 5: 5}\n",
      "fib(6) = 8; memo = {0: 0, 1: 1, 2: 1, 3: 2, 4: 3, 5: 5, 6: 8}\n",
      "fib(7) = 13; memo = {0: 0, 1: 1, 2: 1, 3: 2, 4: 3, 5: 5, 6: 8, 7: 13}\n",
      "fib(8) = 21; memo = {0: 0, 1: 1, 2: 1, 3: 2, 4: 3, 5: 5, 6: 8, 7: 13, 8: 21}\n",
      "fib(9) = 34; memo = {0: 0, 1: 1, 2: 1, 3: 2, 4: 3, 5: 5, 6: 8, 7: 13, 8: 21, 9: 34}\n",
      "fib(10) = 55; memo = {0: 0, 1: 1, 2: 1, 3: 2, 4: 3, 5: 5, 6: 8, 7: 13, 8: 21, 9: 34, 10: 55}\n"
     ]
    }
   ],
   "source": [
    "def fib(n, memo=None):\n",
    "    if memo is None:\n",
    "        memo = {}\n",
    "    if n in memo:\n",
    "        return memo[n]\n",
    "    if n <= 1:\n",
    "        memo[n] = n  # <-- store it in memo\n",
    "        return n\n",
    "    memo[n] = fib(n - 1, memo) + fib(n - 2, memo)\n",
    "    return memo[n]\n",
    "\n",
    "# Example usage:\n",
    "memo = {}\n",
    "for i in range(11):\n",
    "    print(f\"fib({i}) = {fib(i, memo)}; memo = {memo}\")"
   ]
  },
  {
   "cell_type": "code",
   "execution_count": 18,
   "id": "62d1eb87",
   "metadata": {},
   "outputs": [
    {
     "name": "stdout",
     "output_type": "stream",
     "text": [
      "0\n",
      "1\n",
      "5\n",
      "55\n"
     ]
    }
   ],
   "source": [
    "def fib(n):\n",
    "    if (n == 0):\n",
    "        return 0\n",
    "    elif (n == 1):\n",
    "        return 1\n",
    "    last, next_to_last = 0, 1   # fib(1), fib(0)\n",
    "    for _ in range(2, n + 1):\n",
    "        answer = last + next_to_last\n",
    "        last = next_to_last\n",
    "        next_to_last = answer\n",
    "    return answer\n",
    "\n",
    "print(fib(0))  # 0\n",
    "print(fib(1))  # 1\n",
    "print(fib(5))  # 5\n",
    "print(fib(10)) # 55"
   ]
  }
 ],
 "metadata": {
  "kernelspec": {
   "display_name": "Python 3",
   "language": "python",
   "name": "python3"
  },
  "language_info": {
   "codemirror_mode": {
    "name": "ipython",
    "version": 3
   },
   "file_extension": ".py",
   "mimetype": "text/x-python",
   "name": "python",
   "nbconvert_exporter": "python",
   "pygments_lexer": "ipython3",
   "version": "3.9.13"
  }
 },
 "nbformat": 4,
 "nbformat_minor": 5
}
