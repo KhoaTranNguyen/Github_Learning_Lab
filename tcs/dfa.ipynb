{
 "cells": [
  {
   "cell_type": "code",
   "execution_count": 35,
   "metadata": {},
   "outputs": [
    {
     "data": {
      "text/plain": [
       "['q0', 'q1', 'q2']"
      ]
     },
     "execution_count": 35,
     "metadata": {},
     "output_type": "execute_result"
    }
   ],
   "source": [
    "#Q: number of state\n",
    "#Q = int(input())\n",
    "states = ['q{}'.format(i) for i in range(int(input())+1)]\n",
    "states"
   ]
  },
  {
   "cell_type": "code",
   "execution_count": 36,
   "metadata": {},
   "outputs": [
    {
     "data": {
      "text/plain": [
       "['a', 'b', 'c']"
      ]
     },
     "execution_count": 36,
     "metadata": {},
     "output_type": "execute_result"
    }
   ],
   "source": [
    "#alphabet Σ: input alphabet\n",
    "alphabet = list(''.join(str(input()).split()))\n",
    "alphabet"
   ]
  },
  {
   "cell_type": "code",
   "execution_count": null,
   "metadata": {},
   "outputs": [
    {
     "name": "stdout",
     "output_type": "stream",
     "text": [
      "F: q1\n"
     ]
    }
   ],
   "source": [
    "#F: Final States\n",
    "accept_states = int(input())\n",
    "while not 0 <= accept_states <= len(states)-1:\n",
    "    accept_states = int(input(\"Try again (F: q0-q{}): \".format(len(states)-1)))\n",
    "print(\"F: q{}\".format(accept_states))"
   ]
  },
  {
   "cell_type": "code",
   "execution_count": null,
   "metadata": {},
   "outputs": [
    {
     "data": {
      "text/html": [
       "<div>\n",
       "<style scoped>\n",
       "    .dataframe tbody tr th:only-of-type {\n",
       "        vertical-align: middle;\n",
       "    }\n",
       "\n",
       "    .dataframe tbody tr th {\n",
       "        vertical-align: top;\n",
       "    }\n",
       "\n",
       "    .dataframe thead th {\n",
       "        text-align: right;\n",
       "    }\n",
       "</style>\n",
       "<table border=\"1\" class=\"dataframe\">\n",
       "  <thead>\n",
       "    <tr style=\"text-align: right;\">\n",
       "      <th></th>\n",
       "      <th>a</th>\n",
       "      <th>b</th>\n",
       "    </tr>\n",
       "  </thead>\n",
       "  <tbody>\n",
       "    <tr>\n",
       "      <th>q0</th>\n",
       "      <td>q0</td>\n",
       "      <td>q0</td>\n",
       "    </tr>\n",
       "    <tr>\n",
       "      <th>q1</th>\n",
       "      <td>q0</td>\n",
       "      <td>q0</td>\n",
       "    </tr>\n",
       "  </tbody>\n",
       "</table>\n",
       "</div>"
      ],
      "text/plain": [
       "     a   b\n",
       "q0  q0  q0\n",
       "q1  q0  q0"
      ]
     },
     "metadata": {},
     "output_type": "display_data"
    }
   ],
   "source": [
    "#Delta: transition function\n",
    "import pandas as pd\n",
    "from IPython.display import clear_output\n",
    "\n",
    "# Initialize DataFrame\n",
    "delta = pd.DataFrame(index=states, columns=alphabet)\n",
    "display(delta)\n",
    "\n",
    "# Fill cells with validation\n",
    "for q in delta.index:\n",
    "    for s in delta.columns:\n",
    "        while True:\n",
    "            clear_output(wait=True)\n",
    "            print(f\"Must be in range ({delta.index[0]}-{delta.index[-1]})\")\n",
    "            display(delta)\n",
    "\n",
    "            #value = input(f\"({q}, {s}): \")\n",
    "            value = \"q0\"\n",
    "            if value in delta.index:\n",
    "                delta.at[q,s] = value\n",
    "                break\n",
    "\n",
    "clear_output()\n",
    "display(delta)"
   ]
  },
  {
   "cell_type": "code",
   "execution_count": 55,
   "metadata": {},
   "outputs": [
    {
     "name": "stdout",
     "output_type": "stream",
     "text": [
      "{('q0', 'a'): 'q0', ('q0', 'b'): 'q0', ('q0', 'c'): 'q0', ('q1', 'a'): 'q0', ('q1', 'b'): None, ('q1', 'c'): 'q0'}\n"
     ]
    },
    {
     "data": {
      "text/plain": [
       "True"
      ]
     },
     "execution_count": 55,
     "metadata": {},
     "output_type": "execute_result"
    }
   ],
   "source": [
    "import pandas as pd\n",
    "\n",
    "# Create the DataFrame\n",
    "data = {\n",
    "    'a': ['q0', 'q0'],\n",
    "    'b': ['q0', None]\n",
    "}\n",
    "delta = pd.DataFrame(data, index=['q0', 'q1'])\n",
    "\n",
    "# Define the alphabet\n",
    "alphabet = ['a', 'b', 'c']\n",
    "\n",
    "# Initialize the dictionary\n",
    "transition_dict = {}\n",
    "\n",
    "# Iterate through the DataFrame to populate the dictionary\n",
    "for state in delta.index:\n",
    "    for symbol in alphabet:\n",
    "        # Check if the symbol exists in the DataFrame columns\n",
    "        if symbol in delta.columns:\n",
    "            transition_dict[(state, symbol)] = delta.at[state, symbol]\n",
    "        else:\n",
    "            # If the symbol does not exist in the DataFrame, you can set a default value\n",
    "            transition_dict[(state, symbol)] = delta.at[state, delta.columns[0]]  # Default to the first column's value\n",
    "\n",
    "# Print the resulting dictionary\n",
    "print(transition_dict)\n",
    "check=None in delta.values\n",
    "check"
   ]
  }
 ],
 "metadata": {
  "kernelspec": {
   "display_name": "Python 3",
   "language": "python",
   "name": "python3"
  },
  "language_info": {
   "codemirror_mode": {
    "name": "ipython",
    "version": 3
   },
   "file_extension": ".py",
   "mimetype": "text/x-python",
   "name": "python",
   "nbconvert_exporter": "python",
   "pygments_lexer": "ipython3",
   "version": "3.9.13"
  }
 },
 "nbformat": 4,
 "nbformat_minor": 2
}
